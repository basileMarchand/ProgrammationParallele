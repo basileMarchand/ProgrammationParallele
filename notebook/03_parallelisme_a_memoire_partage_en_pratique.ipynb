{
 "cells": [
  {
   "cell_type": "markdown",
   "metadata": {},
   "source": [
    "## Parallélisme à mémoire distribuée"
   ]
  },
  {
   "cell_type": "markdown",
   "metadata": {},
   "source": [
    "### Les limitations de Python "
   ]
  },
  {
   "cell_type": "markdown",
   "metadata": {},
   "source": [
    "Dans cette partie nous allons voir comment se déroule en pratique le parallélisme à mémoire partagée, plus communément appelé multi-thread. \n",
    "\n",
    "Il faut cependant noter quelque chose d'assez cocace, c'est que Python n'est pas adapté pour faire du parallélisme à mémoire partagée, il est en fait incapable d'en faire à cause du GIL. C'est qui ce GIL ? C'est le Global Interpreter Lock et il porte bien son nom car il a pour seul vocation de bloquer l'execution paralléle de Python. \n",
    "\n",
    "Je suis sur que vous n'avez alors qu'une seule question qui vous vient à l'esprit, c'est pourquoi introduire ce GIL alors que toutes les machines disposent maintenant de processeur permettant de fairedu multi-threading ? La réponse le plus concise et la plus complète est : **c'est historique** bienvenu dans le monde du développement. Pour les curieux vous pouvez suivre ce [lien](https://wiki.python.org/moin/GlobalInterpreterLock) pour avoir plus d'informations. \n",
    "\n"
   ]
  },
  {
   "cell_type": "code",
   "execution_count": 1,
   "metadata": {},
   "outputs": [],
   "source": [
    "from threading import Thread\n",
    "class PiComputerThreading(Thread):\n",
    "    def __init__(self, nbpoint, start, end):\n",
    "        super(PiComputerThreading, self).__init__()\n",
    "        self._nbpoint = nbpoint\n",
    "        self._start = start\n",
    "        self._end = end\n",
    "        self._res = 0.\n",
    "        \n",
    "    def run(self):\n",
    "        self._internal()\n",
    "        \n",
    "    def _internal(self):\n",
    "        s = 0\n",
    "        l = 1./self._nbpoint\n",
    "        for i in range(self._start, self._end):\n",
    "            x = l * ( i + 0.5 )\n",
    "            s += l * ( 4. / (1. + x**2 ) )\n",
    "        self._res = s\n",
    "        \n",
    "    @property\n",
    "    def pi(self):\n",
    "        return self._res\n"
   ]
  },
  {
   "cell_type": "code",
   "execution_count": 4,
   "metadata": {},
   "outputs": [],
   "source": [
    "def compute_pi_thread( nbpoint, nb_thread ):\n",
    "    \n",
    "    ## Split task \n",
    "    n = nbpoint // nb_thread\n",
    "    offset = [ n*i for i in range(nb_thread+1)]\n",
    "    offset[-1] += nbpoint % nb_thread\n",
    "    \n",
    "    runners = [ PiComputerThreading(nbpoint, offset[i], offset[i+1])  for i in range( nb_thread )  ]\n",
    "        \n",
    "    for t in runners:\n",
    "        t.start()\n",
    "        \n",
    "    for t in runners:\n",
    "        t.join()\n",
    "        \n",
    "    pi = 0;\n",
    "    for t in runners:\n",
    "        pi += t.pi\n",
    "    return pi\n"
   ]
  },
  {
   "cell_type": "code",
   "execution_count": null,
   "metadata": {},
   "outputs": [],
   "source": []
  },
  {
   "cell_type": "code",
   "execution_count": null,
   "metadata": {},
   "outputs": [],
   "source": []
  },
  {
   "cell_type": "code",
   "execution_count": 12,
   "metadata": {},
   "outputs": [],
   "source": [
    "from multiprocessing import Process\n",
    "class PiComputerMultiProcess(Process):\n",
    "    def __init__(self, nbpoint, start, end):\n",
    "        super(PiComputerMultiProcess, self).__init__()\n",
    "        self._nbpoint = nbpoint\n",
    "        self._start = start\n",
    "        self._end = end\n",
    "        self._res = 0.\n",
    "        \n",
    "    def run(self):\n",
    "        print(\"run\")\n",
    "        self._internal()\n",
    "        \n",
    "    def _internal(self):\n",
    "        s = 0\n",
    "        l = 1./self._nbpoint\n",
    "        for i in range(self._start, self._end):\n",
    "            x = l * ( i + 0.5 )\n",
    "            s += l * ( 4. / (1. + x**2 ) )\n",
    "        self._res = s\n",
    "        print(s)\n",
    "        \n",
    "    @property\n",
    "    def pi(self):\n",
    "        return self._res"
   ]
  },
  {
   "cell_type": "code",
   "execution_count": 19,
   "metadata": {},
   "outputs": [],
   "source": [
    "def compute_pi_multi( nbpoint, nb_thread ):\n",
    "    \n",
    "    ## Split task \n",
    "    n = nbpoint // nb_thread\n",
    "    offset = [ n*i for i in range(nb_thread+1)]\n",
    "    offset[-1] += nbpoint % nb_thread\n",
    "    \n",
    "    runners = [ PiComputerMultiProcess(nbpoint, offset[i], offset[i+1])  for i in range( nb_thread )  ]\n",
    "        \n",
    "    for t in runners:\n",
    "        t.start()\n",
    "        \n",
    "    for t in runners:\n",
    "        t.join()\n",
    "        \n",
    "    pi = 0;\n",
    "    for t in runners:\n",
    "        print(f\"coucou {t.pi}\")\n",
    "        pi += t.pi\n",
    "    return pi\n"
   ]
  },
  {
   "cell_type": "code",
   "execution_count": 20,
   "metadata": {},
   "outputs": [
    {
     "name": "stdout",
     "output_type": "stream",
     "text": [
      "run\n",
      "run\n",
      "1.8545904360033396\n",
      "1.287002217586562\n",
      "> <ipython-input-19-9a57d74173be>(19)compute_pi_multi()\n",
      "-> for t in runners:\n",
      "(Pdb) n\n",
      "> <ipython-input-19-9a57d74173be>(20)compute_pi_multi()\n",
      "-> print(f\"coucou {t.pi}\")\n",
      "(Pdb) p t\n",
      "<PiComputerMultiProcess(PiComputerMultiProcess-13, stopped)>\n",
      "(Pdb) p t._res\n",
      "0.0\n",
      "(Pdb) p t._start\n",
      "0\n",
      "(Pdb) p t._end\n",
      "500000\n",
      "(Pdb) q\n"
     ]
    },
    {
     "ename": "BdbQuit",
     "evalue": "",
     "output_type": "error",
     "traceback": [
      "\u001b[0;31m---------------------------------------------------------------------------\u001b[0m",
      "\u001b[0;31mBdbQuit\u001b[0m                                   Traceback (most recent call last)",
      "\u001b[0;32m<ipython-input-20-1125d20de07a>\u001b[0m in \u001b[0;36m<module>\u001b[0;34m\u001b[0m\n\u001b[0;32m----> 1\u001b[0;31m \u001b[0mpi_multi\u001b[0m \u001b[0;34m=\u001b[0m \u001b[0mcompute_pi_multi\u001b[0m\u001b[0;34m(\u001b[0m\u001b[0;36m1000000\u001b[0m\u001b[0;34m,\u001b[0m \u001b[0;36m2\u001b[0m\u001b[0;34m)\u001b[0m\u001b[0;34m\u001b[0m\u001b[0;34m\u001b[0m\u001b[0m\n\u001b[0m",
      "\u001b[0;32m<ipython-input-19-9a57d74173be>\u001b[0m in \u001b[0;36mcompute_pi_multi\u001b[0;34m(nbpoint, nb_thread)\u001b[0m\n\u001b[1;32m     18\u001b[0m     \u001b[0mpdb\u001b[0m\u001b[0;34m.\u001b[0m\u001b[0mset_trace\u001b[0m\u001b[0;34m(\u001b[0m\u001b[0;34m)\u001b[0m\u001b[0;34m\u001b[0m\u001b[0;34m\u001b[0m\u001b[0m\n\u001b[1;32m     19\u001b[0m     \u001b[0;32mfor\u001b[0m \u001b[0mt\u001b[0m \u001b[0;32min\u001b[0m \u001b[0mrunners\u001b[0m\u001b[0;34m:\u001b[0m\u001b[0;34m\u001b[0m\u001b[0;34m\u001b[0m\u001b[0m\n\u001b[0;32m---> 20\u001b[0;31m         \u001b[0mprint\u001b[0m\u001b[0;34m(\u001b[0m\u001b[0;34mf\"coucou {t.pi}\"\u001b[0m\u001b[0;34m)\u001b[0m\u001b[0;34m\u001b[0m\u001b[0;34m\u001b[0m\u001b[0m\n\u001b[0m\u001b[1;32m     21\u001b[0m         \u001b[0mpi\u001b[0m \u001b[0;34m+=\u001b[0m \u001b[0mt\u001b[0m\u001b[0;34m.\u001b[0m\u001b[0mpi\u001b[0m\u001b[0;34m\u001b[0m\u001b[0;34m\u001b[0m\u001b[0m\n\u001b[1;32m     22\u001b[0m     \u001b[0;32mreturn\u001b[0m \u001b[0mpi\u001b[0m\u001b[0;34m\u001b[0m\u001b[0;34m\u001b[0m\u001b[0m\n",
      "\u001b[0;32m<ipython-input-19-9a57d74173be>\u001b[0m in \u001b[0;36mcompute_pi_multi\u001b[0;34m(nbpoint, nb_thread)\u001b[0m\n\u001b[1;32m     18\u001b[0m     \u001b[0mpdb\u001b[0m\u001b[0;34m.\u001b[0m\u001b[0mset_trace\u001b[0m\u001b[0;34m(\u001b[0m\u001b[0;34m)\u001b[0m\u001b[0;34m\u001b[0m\u001b[0;34m\u001b[0m\u001b[0m\n\u001b[1;32m     19\u001b[0m     \u001b[0;32mfor\u001b[0m \u001b[0mt\u001b[0m \u001b[0;32min\u001b[0m \u001b[0mrunners\u001b[0m\u001b[0;34m:\u001b[0m\u001b[0;34m\u001b[0m\u001b[0;34m\u001b[0m\u001b[0m\n\u001b[0;32m---> 20\u001b[0;31m         \u001b[0mprint\u001b[0m\u001b[0;34m(\u001b[0m\u001b[0;34mf\"coucou {t.pi}\"\u001b[0m\u001b[0;34m)\u001b[0m\u001b[0;34m\u001b[0m\u001b[0;34m\u001b[0m\u001b[0m\n\u001b[0m\u001b[1;32m     21\u001b[0m         \u001b[0mpi\u001b[0m \u001b[0;34m+=\u001b[0m \u001b[0mt\u001b[0m\u001b[0;34m.\u001b[0m\u001b[0mpi\u001b[0m\u001b[0;34m\u001b[0m\u001b[0;34m\u001b[0m\u001b[0m\n\u001b[1;32m     22\u001b[0m     \u001b[0;32mreturn\u001b[0m \u001b[0mpi\u001b[0m\u001b[0;34m\u001b[0m\u001b[0;34m\u001b[0m\u001b[0m\n",
      "\u001b[0;32m/home/zebulon/local/miniconda/miniconda3/envs/mpi/lib/python3.7/bdb.py\u001b[0m in \u001b[0;36mtrace_dispatch\u001b[0;34m(self, frame, event, arg)\u001b[0m\n\u001b[1;32m     86\u001b[0m             \u001b[0;32mreturn\u001b[0m \u001b[0;31m# None\u001b[0m\u001b[0;34m\u001b[0m\u001b[0;34m\u001b[0m\u001b[0m\n\u001b[1;32m     87\u001b[0m         \u001b[0;32mif\u001b[0m \u001b[0mevent\u001b[0m \u001b[0;34m==\u001b[0m \u001b[0;34m'line'\u001b[0m\u001b[0;34m:\u001b[0m\u001b[0;34m\u001b[0m\u001b[0;34m\u001b[0m\u001b[0m\n\u001b[0;32m---> 88\u001b[0;31m             \u001b[0;32mreturn\u001b[0m \u001b[0mself\u001b[0m\u001b[0;34m.\u001b[0m\u001b[0mdispatch_line\u001b[0m\u001b[0;34m(\u001b[0m\u001b[0mframe\u001b[0m\u001b[0;34m)\u001b[0m\u001b[0;34m\u001b[0m\u001b[0;34m\u001b[0m\u001b[0m\n\u001b[0m\u001b[1;32m     89\u001b[0m         \u001b[0;32mif\u001b[0m \u001b[0mevent\u001b[0m \u001b[0;34m==\u001b[0m \u001b[0;34m'call'\u001b[0m\u001b[0;34m:\u001b[0m\u001b[0;34m\u001b[0m\u001b[0;34m\u001b[0m\u001b[0m\n\u001b[1;32m     90\u001b[0m             \u001b[0;32mreturn\u001b[0m \u001b[0mself\u001b[0m\u001b[0;34m.\u001b[0m\u001b[0mdispatch_call\u001b[0m\u001b[0;34m(\u001b[0m\u001b[0mframe\u001b[0m\u001b[0;34m,\u001b[0m \u001b[0marg\u001b[0m\u001b[0;34m)\u001b[0m\u001b[0;34m\u001b[0m\u001b[0;34m\u001b[0m\u001b[0m\n",
      "\u001b[0;32m/home/zebulon/local/miniconda/miniconda3/envs/mpi/lib/python3.7/bdb.py\u001b[0m in \u001b[0;36mdispatch_line\u001b[0;34m(self, frame)\u001b[0m\n\u001b[1;32m    111\u001b[0m         \u001b[0;32mif\u001b[0m \u001b[0mself\u001b[0m\u001b[0;34m.\u001b[0m\u001b[0mstop_here\u001b[0m\u001b[0;34m(\u001b[0m\u001b[0mframe\u001b[0m\u001b[0;34m)\u001b[0m \u001b[0;32mor\u001b[0m \u001b[0mself\u001b[0m\u001b[0;34m.\u001b[0m\u001b[0mbreak_here\u001b[0m\u001b[0;34m(\u001b[0m\u001b[0mframe\u001b[0m\u001b[0;34m)\u001b[0m\u001b[0;34m:\u001b[0m\u001b[0;34m\u001b[0m\u001b[0;34m\u001b[0m\u001b[0m\n\u001b[1;32m    112\u001b[0m             \u001b[0mself\u001b[0m\u001b[0;34m.\u001b[0m\u001b[0muser_line\u001b[0m\u001b[0;34m(\u001b[0m\u001b[0mframe\u001b[0m\u001b[0;34m)\u001b[0m\u001b[0;34m\u001b[0m\u001b[0;34m\u001b[0m\u001b[0m\n\u001b[0;32m--> 113\u001b[0;31m             \u001b[0;32mif\u001b[0m \u001b[0mself\u001b[0m\u001b[0;34m.\u001b[0m\u001b[0mquitting\u001b[0m\u001b[0;34m:\u001b[0m \u001b[0;32mraise\u001b[0m \u001b[0mBdbQuit\u001b[0m\u001b[0;34m\u001b[0m\u001b[0;34m\u001b[0m\u001b[0m\n\u001b[0m\u001b[1;32m    114\u001b[0m         \u001b[0;32mreturn\u001b[0m \u001b[0mself\u001b[0m\u001b[0;34m.\u001b[0m\u001b[0mtrace_dispatch\u001b[0m\u001b[0;34m\u001b[0m\u001b[0;34m\u001b[0m\u001b[0m\n\u001b[1;32m    115\u001b[0m \u001b[0;34m\u001b[0m\u001b[0m\n",
      "\u001b[0;31mBdbQuit\u001b[0m: "
     ]
    }
   ],
   "source": [
    "pi_multi = compute_pi_multi(1000000, 2)\n"
   ]
  },
  {
   "cell_type": "code",
   "execution_count": null,
   "metadata": {},
   "outputs": [],
   "source": []
  },
  {
   "cell_type": "code",
   "execution_count": 5,
   "metadata": {},
   "outputs": [],
   "source": [
    "pi_thread = compute_pi_thread(1000000, 2)\n",
    "pi_multi = compute_pi_multi(1000000, 2)"
   ]
  },
  {
   "cell_type": "code",
   "execution_count": 7,
   "metadata": {},
   "outputs": [
    {
     "data": {
      "text/plain": [
       "3.1415926535899015"
      ]
     },
     "execution_count": 7,
     "metadata": {},
     "output_type": "execute_result"
    }
   ],
   "source": [
    "pi_thread"
   ]
  },
  {
   "cell_type": "code",
   "execution_count": 8,
   "metadata": {},
   "outputs": [
    {
     "data": {
      "text/plain": [
       "0.0"
      ]
     },
     "execution_count": 8,
     "metadata": {},
     "output_type": "execute_result"
    }
   ],
   "source": [
    "pi_multi"
   ]
  },
  {
   "cell_type": "code",
   "execution_count": null,
   "metadata": {},
   "outputs": [],
   "source": [
    "%timeit compute_pi_thread(10000000, 10)\n",
    "%timeit compute_pi_multi(10000000, 2)"
   ]
  }
 ],
 "metadata": {
  "kernelspec": {
   "display_name": "Python 3",
   "language": "python",
   "name": "python3"
  },
  "language_info": {
   "codemirror_mode": {
    "name": "ipython",
    "version": 3
   },
   "file_extension": ".py",
   "mimetype": "text/x-python",
   "name": "python",
   "nbconvert_exporter": "python",
   "pygments_lexer": "ipython3",
   "version": "3.7.6"
  }
 },
 "nbformat": 4,
 "nbformat_minor": 4
}
