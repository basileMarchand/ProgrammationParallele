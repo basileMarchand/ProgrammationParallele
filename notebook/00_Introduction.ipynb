{
 "cells": [
  {
   "cell_type": "markdown",
   "metadata": {},
   "source": [
    "# Introduction \n",
    "\n",
    "## Objectifs du cours \n",
    "\n",
    "Bienvenu dans ce cours sur la programmation parallèle. Pour le moment dans tous les cours de programmation que vous avez eu au premier semestre, que vous aillez suivi les cours de C++, Python, Java vous ne vous êtes pas vraiment posé de question de savoir si dans tous les programme que vous avait écrit vous utilisiez pleinement vos ressources en terme de moyens de calcul.\n",
    "\n",
    "Je peux vous répondre tout de suite, non vous n'avez pas du tout utilisé l'intégralité de vos ressources informatiques. Et c'est normal car vous n'avez pas appris comment le faire !! En effet pour utiliser l'ensemble des ressources disponible, sur votre ordinateur portable par exemple, il est nécessaire de le faire volontairement. C'est donc ce que nous allons voir dans ce cours. \n",
    "\n",
    "L'objectif de ce cours est donc de vous donner les éléments de base pour que vous soyez à même de réaliser des programme en **Python** à même d'exploiter vos ressources informatique au maximum. "
   ]
  },
  {
   "cell_type": "markdown",
   "metadata": {},
   "source": [
    "## Repartons de la base, votre ordinateur portable"
   ]
  },
  {
   "cell_type": "markdown",
   "metadata": {},
   "source": [
    "Pour commencer repartons de la base. Comment fonctionne votre ordinateur portable ? Alors vous avez déjà eu un cours sur les systèmes d'exploitation ce qui fait que les choses que je vais dire ne seront que des banalités normalement mais comme on dit il faut répéter pour que ca rentre. \n",
    "\n",
    "\n",
    "Un ordinateur portable (ou pas portable d'ailleurs) c'est : \n",
    "\n",
    "* Un hardware : l'objet physique et ses composants\n",
    "* Du software : principalement votre système d'exploitation qui permet de faire fonctionner correctement la partie hardware\n",
    "\n",
    "Je ne m'attarderai pas plus que cela sur la partie software/OS car comme je l'ai déjà dit vous avez eu un cours la dessus. En revanche si l'on regarde la partie hardware, on peut à la louche décomposer un ordinateur en trois composants : \n",
    "* Le processeur\n",
    "* La mémoire vive \n",
    "* Le disque dur \n",
    "\n",
    "Je sais il y a plein d'autre trucs par exemple l'écran, la carte graphique, ... Mais on va dire que selon ma définition le mimimum vital pour que l'on puisse parler d'ordinateur c'est processeur, mémoire vive et disque dur. Quoi que, petite appartée, la prise en compte du disque dur peut être discutable dans ma définition car il y a aujourd'hui des ordinateurs dit disk-less mais c'est un autre débat. \n",
    "\n",
    "Et donc à partir de ces éléments comment fonctionne l'exécution d'un programme ? C'est simple à partir de votre programme binaire stocké sur le disque dur. Vous lancez l'exécution est alors là il se passe les étapes suivantes : \n",
    "\n",
    "1. Le système d'exploitation charge votre programme en mémoire vive\n",
    "2. Votre programme commence à dire au processeur qu'il doit réaliser des instruction \n",
    "3. Le processeur quand c'est au tour de votre programme de travailler :  \n",
    "    a. Récupère en mémoire les variables dont il a besoin  \n",
    "    b. Execute une série d'instruction ordonnée par votre programme  \n",
    "    c. Range en mémoire le résultat issu de la série d'instruction  \n",
    "    \n",
    "\n",
    "Le point important se situe au niveau de l'étape 3, i.e. le **processeur** ! \n",
    "\n",
    "Mais avant faisons un peu d'archéologie des processeurs. Non je plaisante, je ne vais pas vous faire toute le genèse de l'informatique depuis les cartes perforées jusqu'à l'ordinateur quantique. Je ne me contenterai que de vous donner une date clé, 2001 la sortie du POWER4 par IBM. (Je fais vieux sage, mais j'ai du chercher sur internet car à cette date je n'avais encore jamais touché un ordinateur... ) Qu'est ce qu'il a de particulier ce POWER4 vous vous demandez ? Et bien c'est le premier processeur du marché à être équipé de **deux** coeurs ! Oui vous avez bien lu **deux**. Alors puisque l'on est dans les dates on peut également citer 2005 avec la sortie des premiers processeur Intel et AMD en dual-core. \n",
    "\n",
    "Et alors qu'est ce que ca a de révolutionnaire ? Et bien l'arrivé des processeur multi-coeurs représente un changement de paradigme complet. Car avant cela il n'y avait que des processeur mono-coeurs donc ne les instructions en séquentiel. L'arrivée des multi-coeurs signe l'arrivé du traitement en parallèle des tâches. En effet à partir de ce moment on a deux fois plus de bras pour travailler donc on peut faire des choses simultanéments. \n",
    "\n",
    "Pour la petite histoire pourquoi ce changement de vision brusque, passage des architectures mono-coeurs à des architectures multi-coeurs ? Pour une raison toutes simple, pendant des années l'évolution et la montée en gamme des processeurs était directement proportionnelle au nombre de transistore intégré dans le processeur. Il s'agit de la fameuse loi de Moore qui stipule que le nombre de transitor constituant un processeur et donc sa puissance de calcul double tous les deux ans. Et donc pendant des années cette loi a été vérifiée et donc la montée en gamme des processeurs se faisait \"naturellement\" avec l'évolution des transistors. Sauf que vers le début des années 2000 la loi de Moore a commencé a avoir du plomb dans l'aile... Et donc il a fallut trouver une parade pour continuer à faire évoluer les processeurs. La solution la plus simple a été de se dire si on ne peut pas aller deux fois plus vite avec un processeur et bien on va en faire deux fois plus. Et c'est comme ça que les processeurs dual-core ont commencé à apparaitre. \n",
    "\n",
    "Pour l'anecdote les objectifs d'Intel en terme de performance en 2002 étaient d'avoir à l'horizon 2005 des processeurs cadencés à 10 GHz. Ils ont abandonnés en cours de route pour passer sur les architectures multi-coeurs. Visiblement ils ont bien fait car les processeurs récents les plus performant actuel ont une fréquence d'horloge de 5GHz et nécessitent pour cela un refroidissement à l'azote liquide...\n",
    "\n",
    "Mais revenons à nos moutons, les processeurs multi-coeurs. Aujourd'hui cela peut sembler banal vous avez des processeurs multi-coeurs dans votre ordinateur, dans votre téléphone, avec en moyenne 4 coeurs. Sachant que pour les processeurs destinés aux serveurs les plus récent et les plus haut de gamme, on peut avoir jusqu'à 32, 64 voir même 96 coeurs par processeurs. On peut donc raisonnablement admettre qu'aujour'hui le modèle standard est aux processeurs multi-coeurs. "
   ]
  },
  {
   "cell_type": "markdown",
   "metadata": {},
   "source": [
    "## Des coeurs encore et toujours plus "
   ]
  },
  {
   "cell_type": "markdown",
   "metadata": {},
   "source": [
    "Nous venons de le dire les processeurs ont aujourd'hui tous des architecture multi-coeurs et je dirai même que la tendance actuelle est d'avoir toujours plus de coeurs dans un processeur, allez faire un tour sur les sites d'AMD pour vous en convaincre. \n",
    "\n",
    "Mais bien avant que les processeurs multi-coeurs commencent a apparaitre des personnes avaient déjà eu l'idée d'associer des processeurs entre eux pour disposer d'une puissance de calcul plus élevée. C'est de cette idée que sont néés les supercalculateur/cluster. Le principe est simple ont prend tout un tas d'ordinateur (que l'on appel noeud de calcul dans ce contexte) et ont les connecte entre eux. Bien que le principe soit simple la mise en oeuvre est plus délicate. En effet la mise en place et l'utilisation des clusters a entrainé deux problématiques (problématiques toujours d'actualité) qui sont : \n",
    "\n",
    "1. Au niveau hardware comment fait-on pour interconnecter de nombreux ordinateurs entre eux tout en ayant comme souci premier la performance. \n",
    "2. Au niveau software comment adapte-t-on un logiciel développé pour ne fonctionner que sur un ordinateur sur un seul coeur à un architecture composé de plusieurs ordinateurs connectés entre eux via un réseau dédié.\n",
    "\n",
    "Nous verrons dans la suite comment ces deux problématiques sont traités actuellement. \n",
    "\n",
    "Pour vous donner quelques ordres de grandeurs voici ci-dessous l'évolution du nombre de coeurs du premier cluster Français dans le [top 500](www.top500.org) entre 2000 et 2017.  \n",
    "\n",
    "<img src=\"../media/evolution1.png\" alt=\"drawing\" style=\"width:400px;\"/>\n",
    "\n"
   ]
  },
  {
   "cell_type": "markdown",
   "metadata": {},
   "source": [
    "On constate donc que la tendance est donc au machine disposant de plusieurs milliers de coeurs. On peut au passage constater que dans le période 2005-2008 il y a eu une accélération du nombre de coeurs. En 2005 première commercialisation par Intel et AMD de processeur multi-coeurs, un hasard ? \n",
    "\n",
    "Et donc avec les processeurs multi-coeurs le standard du super calculateur est devenu une architecture parallèle à deux niveaux : \n",
    "\n",
    "1. Premier niveau : un ensemble de noeuds interconnecté via un réseau rapide dédié\n",
    "2. Second niveau : sur chaque noeuds un ou plusieurs processeur multi-coeurs.\n",
    "\n",
    "\n",
    "Pour vous donner un exemple concret, le cluster du Centre des Matériaux (Laboratoire de l'École des Mines je rappelle au cas où) est constitué de 34 noeuds de calculs chaque noeuds étant équipé de 2 processeur Intel de 12 coeurs. Cela fait donc un total de 816 coeurs à disposition. "
   ]
  },
  {
   "cell_type": "markdown",
   "metadata": {},
   "source": [
    "## Toujours plus de coeurs mais pour faire quoi ? \n",
    "\n",
    "\n"
   ]
  },
  {
   "cell_type": "markdown",
   "metadata": {},
   "source": [
    "Pour quelle raison le nombre de coeurs par processeur, la taille des clusters, continue à évoluer ? Pour une raison très simple, les problèmes que l'on souhaite résoudre aujourd'hui sont bien plus complexes et nécéssite donc bien plus de ressources que ceux d'hier ! \n",
    "\n",
    "Quels sont les problématique pouvant nécessiter l'utilisation massive des l'informatique paralléle ? Impossible de faire une liste exhaustive !! Mais le périmètre est extrèment large, physique, science des matériaux, météorologie, génétique, médecine, ... J'ai envie de dire qu'il y a du calcul parallèle dans tous les domaines scientifiques et même au-dela. Par exemple dans la finance il y a d'énorme besoin en terme de ressources de calcul. \n",
    "\n"
   ]
  },
  {
   "cell_type": "markdown",
   "metadata": {},
   "source": [
    "Mais pour vous donner une application concrète recentrons nous sur des problématiques plus parlantes, pour moi en tout cas, le mécanique des matériaux solides. Considérons par exemple la simulation de la durée de vie d'une aube de turbine d'un moteur d'avion. Il s'agit d'une simulation complexe car devant prendre en compte de nombreux facteurs : \n",
    "\n",
    "* L'aube est une géométrie complexe\n",
    "* Le matériaux constitutif de l'aube est un matériau complexe dont le comportement est gourverné par des lois non-linéaires complexes\n",
    "* Le calcul doit faire intervenir les aspects thermiques, car l'aube en question se situe en sortie de chambre de combustion et est donc soumise à des gradients thermiques conséquents. \n",
    "\n",
    "Tous ces éléments font qu'il s'agit d'un problème complexe à résoudre. La résolution de ce problème en utilisant une architecture mono-coeurs, c'est-à-dire une résolution séquentiel prendrait approximativement entre deux et trois semaine de calcul pour un cycle (c'est-à-dire un vol classique d'une heure). Tandis quand exploitant les architectures de calcul parallèle moderne ce temps de calcul est réduit à 4.5 heures en utilisant 192 coeurs. Pour cela le principe est de décomposer le problème initiale en $N$ problèmes, dans notre cas on découpe notre géométrie Figure de gauche, et pour chaque sous-problème on utilise plusieurs coeurs. Ce mette alors en marche des méthodes de résolution dédiée. \n",
    "\n",
    "<table><tr>\n",
    "<td> <img src=\"../media/aube1.png\" alt=\"Drawing\" style=\"width: 250px;\"/> </td>\n",
    "<td> <img src=\"../media/aube2.png\" alt=\"Drawing\" style=\"width: 500px;\"/> </td>\n",
    "</tr></table>\n"
   ]
  }
 ],
 "metadata": {
  "kernelspec": {
   "display_name": "Python 3",
   "language": "python",
   "name": "python3"
  },
  "language_info": {
   "codemirror_mode": {
    "name": "ipython",
    "version": 3
   },
   "file_extension": ".py",
   "mimetype": "text/x-python",
   "name": "python",
   "nbconvert_exporter": "python",
   "pygments_lexer": "ipython3",
   "version": "3.7.6"
  }
 },
 "nbformat": 4,
 "nbformat_minor": 4
}
